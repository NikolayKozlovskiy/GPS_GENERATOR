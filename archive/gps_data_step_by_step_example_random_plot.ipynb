{
 "cells": [
  {
   "cell_type": "code",
   "execution_count": null,
   "id": "5e75499d",
   "metadata": {},
   "outputs": [],
   "source": [
    "import pandas as pd\n",
    "import geopandas as gpd\n",
    "import osmnx  as ox\n",
    "import matplotlib.pyplot as plt\n",
    "from shapely.geometry import Point, LineString, Polygon, GeometryCollection\n",
    "import numpy as np\n",
    "import random\n",
    "import math\n",
    "from math import sin, cos, sqrt, atan2, radians\n",
    "import datetime\n",
    "from datetime import timedelta\n",
    "import pyproj\n",
    "from pyproj import Transformer\n",
    "from pyproj import CRS\n",
    "import folium\n",
    "from folium import Map\n",
    "from folium.plugins import HeatMap\n",
    "from folium import plugins\n",
    "from folium.plugins import HeatMapWithTime\n",
    "import warnings\n",
    "warnings.filterwarnings(\"ignore\")"
   ]
  },
  {
   "cell_type": "code",
   "execution_count": null,
   "id": "8151b700",
   "metadata": {},
   "outputs": [],
   "source": [
    "place_name = 'Tartu, Tartu linn, Tartu maakond, Estonia'"
   ]
  },
  {
   "cell_type": "code",
   "execution_count": null,
   "id": "700d2d01",
   "metadata": {},
   "outputs": [],
   "source": [
    "%%time\n",
    "graph = ox.graph_from_place(place_name, network_type='walk')"
   ]
  },
  {
   "cell_type": "code",
   "execution_count": null,
   "id": "1ec109fa",
   "metadata": {},
   "outputs": [],
   "source": [
    "%%time\n",
    "graph_proj = ox.project_graph(graph)"
   ]
  },
  {
   "cell_type": "code",
   "execution_count": null,
   "id": "b7668814",
   "metadata": {},
   "outputs": [],
   "source": [
    "%%time\n",
    "nodes = ox.graph_to_gdfs(graph_proj, nodes=True, edges=False)"
   ]
  },
  {
   "cell_type": "code",
   "execution_count": null,
   "id": "0a614c75",
   "metadata": {},
   "outputs": [],
   "source": [
    "graph_crs=nodes.crs"
   ]
  },
  {
   "cell_type": "code",
   "execution_count": null,
   "id": "99e92302",
   "metadata": {},
   "outputs": [],
   "source": [
    "crs_utm = graph_crs\n",
    "crs_4326 = CRS.from_epsg(4326)\n",
    "transformer_to_WGS= Transformer.from_crs(crs_utm, crs_4326, always_xy=True)\n",
    "# transformer_to_UTM= Transformer.from_crs(crs_4326, crs_utm, always_xy=True)"
   ]
  },
  {
   "cell_type": "code",
   "execution_count": null,
   "id": "891ff17b",
   "metadata": {},
   "outputs": [],
   "source": [
    "gdf_buildings = ox.geometries_from_place(place_name, tags={'building':True})"
   ]
  },
  {
   "cell_type": "code",
   "execution_count": null,
   "id": "8e16afd7",
   "metadata": {},
   "outputs": [],
   "source": [
    "gdf_amenities=ox.geometries_from_place(place_name, tags={\"amenity\":True, \"leisure\":True, 'tourism':True})"
   ]
  },
  {
   "cell_type": "code",
   "execution_count": null,
   "id": "53858a85",
   "metadata": {},
   "outputs": [],
   "source": [
    "gdf_hw=gdf_buildings.loc[:, ['geometry', 'name']].reset_index()\n",
    "gdf_hw=gdf_hw.to_crs(graph_crs)"
   ]
  },
  {
   "cell_type": "code",
   "execution_count": null,
   "id": "d7321874",
   "metadata": {},
   "outputs": [],
   "source": [
    "gdf_hw['center_x']=gdf_hw['geometry'].centroid.x\n",
    "gdf_hw['center_y']=gdf_hw['geometry'].centroid.y"
   ]
  },
  {
   "cell_type": "code",
   "execution_count": null,
   "id": "8cdc0c70",
   "metadata": {},
   "outputs": [],
   "source": [
    "gdf_hw['nearest_node_id']=ox.distance.nearest_nodes(graph_proj, gdf_hw['center_x'], gdf_hw['center_y'])"
   ]
  },
  {
   "cell_type": "code",
   "execution_count": null,
   "id": "031900f6",
   "metadata": {},
   "outputs": [],
   "source": [
    "gdf_hw['node_y']=list(nodes.loc[gdf_hw['nearest_node_id']]['y'])\n",
    "gdf_hw['node_x']=list(nodes.loc[gdf_hw['nearest_node_id']]['x'])"
   ]
  },
  {
   "cell_type": "code",
   "execution_count": null,
   "id": "2e276d27",
   "metadata": {},
   "outputs": [],
   "source": [
    "gdf_hw['distance_to_node']=ox.distance.euclidean_dist_vec\\\n",
    "(gdf_hw['node_y'],gdf_hw['node_x'], gdf_hw['center_y'], gdf_hw['center_x'] )"
   ]
  },
  {
   "cell_type": "code",
   "execution_count": null,
   "id": "91612872",
   "metadata": {},
   "outputs": [],
   "source": [
    "gdf_event=gdf_amenities.loc[:, ['geometry', 'name']].reset_index()\n",
    "gdf_event=gdf_event.to_crs(graph_crs)"
   ]
  },
  {
   "cell_type": "code",
   "execution_count": null,
   "id": "8d21abe1",
   "metadata": {},
   "outputs": [],
   "source": [
    "gdf_event['center_x']=gdf_event['geometry'].centroid.x\n",
    "gdf_event['center_y']=gdf_event['geometry'].centroid.y"
   ]
  },
  {
   "cell_type": "code",
   "execution_count": null,
   "id": "fe834eb6",
   "metadata": {},
   "outputs": [],
   "source": [
    "gdf_event['nearest_node_id']=ox.distance.nearest_nodes(graph_proj, gdf_event['center_x'], gdf_event['center_y'])"
   ]
  },
  {
   "cell_type": "code",
   "execution_count": null,
   "id": "78931f15",
   "metadata": {},
   "outputs": [],
   "source": [
    "gdf_event['node_y']=list(nodes.loc[gdf_event['nearest_node_id']]['y'])\n",
    "gdf_event['node_x']=list(nodes.loc[gdf_event['nearest_node_id']]['x'])"
   ]
  },
  {
   "cell_type": "code",
   "execution_count": null,
   "id": "afeb304e",
   "metadata": {},
   "outputs": [],
   "source": [
    "gdf_event['distance_to_node']=ox.distance.euclidean_dist_vec\\\n",
    "(gdf_event['node_y'],gdf_event['node_x'], gdf_event['center_y'], gdf_event['center_x'] )"
   ]
  },
  {
   "cell_type": "code",
   "execution_count": null,
   "id": "ff897e6e",
   "metadata": {},
   "outputs": [],
   "source": [
    "def get_meaningful_locations(G, gdf_hw, gdf_event): \n",
    "    while True: \n",
    "        home_id=random.randint(0, len(gdf_hw)-1)\n",
    "        work_id=random.randint(0, len(gdf_hw)-1)\n",
    "        home_node=nodes.loc[gdf_hw.iloc[home_id]['nearest_node_id']]\n",
    "        work_node=nodes.loc[gdf_hw.iloc[work_id]['nearest_node_id']]\n",
    "        distance_to_h=gdf_hw.iloc[home_id]['distance_to_node']\n",
    "        distance_to_w=gdf_hw.iloc[work_id]['distance_to_node']\n",
    "        final_distance = ox.distance.euclidean_dist_vec(home_node['y'], home_node['x'], work_node['y'], work_node['x'])\\\n",
    "                    + distance_to_h+distance_to_w\n",
    "        if final_distance >=300: # meters\n",
    "            regular_locations_ids=[]\n",
    "            number_of_regular_locations=random.randint(3,5)\n",
    "            i=0\n",
    "            while i <=number_of_regular_locations: \n",
    "                regular_id=random.randint(0, len(gdf_event)-1)\n",
    "                regular_node=nodes.loc[gdf_event.iloc[regular_id]['nearest_node_id']]\n",
    "                if ox.distance.great_circle_vec(regular_node['y'], regular_node['x'], work_node['y'], work_node['x'], earth_radius=6371009)>=200: # meters\n",
    "                    regular_locations_ids.append(regular_id)\n",
    "                    i+=1                    \n",
    "                else: \n",
    "                    continue\n",
    "            return home_id, work_id, regular_locations_ids\n",
    "        else: \n",
    "            continue"
   ]
  },
  {
   "cell_type": "code",
   "execution_count": null,
   "id": "59c42724",
   "metadata": {},
   "outputs": [],
   "source": [
    "n=-1\n",
    "def get_regular_or_random_loc(regular_location_ids, gdf_event):\n",
    "    global n\n",
    "    while True: \n",
    "        random_id=[random.randint(0, len(gdf_event)-1)]\n",
    "        array_of_ids=np.array([regular_location_ids, random_id], dtype='object')\n",
    "        choose_reg_or_random=np.random.choice(array_of_ids,1,p=[0.6,0.4])[0]\n",
    "        event_id=np.random.choice(choose_reg_or_random)\n",
    "        if event_id!=n:\n",
    "            event_x=gdf_event.iloc[event_id]['center_x']\n",
    "            event_y=gdf_event.iloc[event_id]['center_y']\n",
    "            event_node_id=gdf_event.iloc[event_id]['nearest_node_id']\n",
    "            n=event_id\n",
    "            return event_node_id, event_x, event_y, event_id\n",
    "        else: \n",
    "            continue"
   ]
  },
  {
   "cell_type": "code",
   "execution_count": null,
   "id": "fa7a5f07",
   "metadata": {},
   "outputs": [],
   "source": [
    "def get_static_points(startlon, startlat, user, data_array, time_start, time_end):\n",
    "    time_start+=timedelta(minutes=1)\n",
    "    startlon, startlat=transformer_to_WGS.transform(startlon, startlat)\n",
    "    while time_start<time_end:\n",
    "        random_minutes=random.randint(1,5)\n",
    "        possible_forward_azimuth=random.randint(0,360)\n",
    "        possible_distance=random.randint(0,5) #metres\n",
    "        endLon,endLat,backAzimuth = (pyproj.Geod(ellps='WGS84')\n",
    "            .fwd(startlon,startlat,possible_forward_azimuth,possible_distance))\n",
    "        time_gps=time_start\n",
    "        data_array.append([user+1, time_gps, endLon, endLat])\n",
    "        time_start+=timedelta(minutes=random_minutes)\n",
    "    return time_start.round(freq='S')"
   ]
  },
  {
   "cell_type": "code",
   "execution_count": null,
   "id": "b9f94b5c",
   "metadata": {},
   "outputs": [],
   "source": [
    "def get_points_on_path(path, number_of_points): \n",
    "    distances = np.linspace(0, path.length, number_of_points)\n",
    "    points = [path.interpolate(distance) for distance in distances]\n",
    "    return points"
   ]
  },
  {
   "cell_type": "code",
   "execution_count": null,
   "id": "c229367d",
   "metadata": {},
   "outputs": [],
   "source": [
    "def get_chaotic_point(point_start, point_end, radius_of_buffer):\n",
    "    points_intersection=point_start.buffer(radius_of_buffer).intersection(point_end.buffer(radius_of_buffer))\n",
    "    path_between_points=LineString([point_start, point_end])\n",
    "    final_intersection=points_intersection.intersection(path_between_points.buffer(2))\n",
    "    min_x, min_y, max_x, max_y = final_intersection.bounds\n",
    "    while True: \n",
    "        chaotic_point = Point([random.uniform(min_x, max_x), random.uniform(min_y, max_y)])\n",
    "        if (chaotic_point.within(final_intersection)):\n",
    "            return chaotic_point\n",
    "        else: \n",
    "            continue"
   ]
  },
  {
   "cell_type": "code",
   "execution_count": null,
   "id": "7b693edd",
   "metadata": {},
   "outputs": [],
   "source": [
    "def get_moving_points(G, start_node, end_node,  start_coords, end_coords, user, data_array, time_start,\\\n",
    "                      length_of_distance_m=10, mean_velocity_ms=1.1): \n",
    "    \n",
    "    route = ox.distance.shortest_path(G, start_node, end_node, weight=\"length\")\n",
    "    route_nodes = nodes.loc[route]\n",
    "    route_list=list(route_nodes.geometry.values)\n",
    "    route_list.insert(0,Point(start_coords[0], start_coords[1])) \n",
    "    route_list.append(Point(end_coords[0], end_coords[1]))\n",
    "    path = LineString(route_list)\n",
    "    \n",
    "    if path.length<=length_of_distance_m: \n",
    "        number_of_points=2\n",
    "    else: \n",
    "        number_of_points=math.ceil(path.length/length_of_distance_m)\n",
    "    \n",
    "    points=get_points_on_path(path, number_of_points)\n",
    "\n",
    "    for i in range(number_of_points):\n",
    "        endLon, endLat = transformer_to_WGS.transform(points[i].x, points[i].y)\n",
    "        if i != number_of_points-1: \n",
    "            chaotic_point=get_chaotic_point(points[i], points[i+1], radius_of_buffer=length_of_distance_m)\n",
    "            distance_to_chaotic_point=LineString([points[i],chaotic_point]).length\n",
    "            if distance_to_chaotic_point < 2.2: \n",
    "                time_to_chaotic_point=2\n",
    "            else: \n",
    "                time_to_chaotic_point=distance_to_chaotic_point/mean_velocity_ms\n",
    "            time_gps=time_start.round(freq='S')\n",
    "            time_start+=timedelta(seconds=time_to_chaotic_point)\n",
    "            data_array.append([user+1, time_gps, endLon, endLat])\n",
    "            \n",
    "            endLon, endLat = transformer_to_WGS.transform(chaotic_point.x, chaotic_point.y)\n",
    "            distance_to_next_point=LineString([chaotic_point, points[i+1]]).length\n",
    "            if distance_to_next_point < 2.2: \n",
    "                time_to_next_point=2\n",
    "            else: \n",
    "                time_to_next_point=distance_to_next_point/mean_velocity_ms\n",
    "            time_gps=time_start.round(freq='S')\n",
    "            time_start+=timedelta(seconds=time_to_next_point) \n",
    "            data_array.append([user+1, time_gps, endLon, endLat])\n",
    "\n",
    "        else:\n",
    "            endLon, endLat = transformer_to_WGS.transform(points[i].x, points[i].y)\n",
    "            time_gps=time_start.round(freq='S')\n",
    "            data_array.append([user+1, time_gps, endLon, endLat])\n",
    "    return time_start.round(freq='S')"
   ]
  },
  {
   "cell_type": "code",
   "execution_count": null,
   "id": "aae1c519",
   "metadata": {},
   "outputs": [],
   "source": [
    "\n",
    "def random_plot(day_string, list_of_locations, day_of_week, number_of_events): \n",
    "    list_of_events_id=[]\n",
    "    for r in range (number_of_events):\n",
    "        result=get_regular_or_random_loc(user_locations[user][2], gdf_event)\n",
    "        event_list=[result[0], result[1], result[2]]\n",
    "        list_of_events_id.append(result[3])\n",
    "        list_of_locations.append(event_list)\n",
    "    \n",
    "    with open(FILE_NAME, 'a') as file: \n",
    "        file.write(f\"Day of week: {day_of_week}\\n\")\n",
    "        file.write(f'Number of events: {number_of_events}\\n')\n",
    "        file.write(f\"Event's ids: {list_of_events_id}\\n\")\n",
    "        file.write(f'Length of list locations: {len(list_of_locations)}\\n')        \n",
    "    \n",
    "    i=0\n",
    "    \n",
    "    \n",
    "    if day_of_week>=6 and len(list_of_locations)>1: \n",
    "        stay_activity_time=get_static_points(list_of_locations[i][1], list_of_locations[i][2], user, gps_data_array, \\\n",
    "                                             time_start=another_day_start, time_end=day+timedelta(hours=random.randint(10,14)))\n",
    "        with open(FILE_NAME, \"a\") as file: \n",
    "            file.write(f'It is weekend and the user stayed at home from {another_day_start} to {stay_activity_time}\\n')\n",
    "            file.write(f'Current amount of data: {len(gps_data_array)}\\n')\n",
    "            \n",
    "    elif day_of_week<6:    \n",
    "        \n",
    "        stay_activity_time=get_static_points(list_of_locations[i][1], list_of_locations[i][2], user, gps_data_array, \\\n",
    "                                             time_start=another_day_start, time_end=day+timedelta(hours=random.randint(7,9)))\n",
    "        with open(FILE_NAME, \"a\") as file: \n",
    "            file.write(f'It is weekday and the user stayed at from {another_day_start} till {stay_activity_time}\\n')\n",
    "            file.write(f'Current amount of data: {len(gps_data_array)}\\n')\n",
    "\n",
    "        moving_activity_time=get_moving_points(graph_proj, list_of_locations[i][0], list_of_locations[i+1][0],\\\n",
    "                        [list_of_locations[i][1], list_of_locations[i][2]],[list_of_locations[i+1][1], list_of_locations[i+1][2]],\\\n",
    "                        user, gps_data_array, time_start=stay_activity_time)\n",
    "        with open(FILE_NAME, \"a\") as file:\n",
    "            file.write(f'At {day_string} the user went to work and came there {moving_activity_time}\\n')\n",
    "            file.write(f'Current amount of data: {len(gps_data_array)}\\n')\n",
    "\n",
    "        stay_activity_time=get_static_points(list_of_locations[i+1][1], list_of_locations[i+1][2], user, gps_data_array, \\\n",
    "                                             time_start=moving_activity_time, time_end=day+timedelta(hours=random.randint(17,19)))\n",
    "        with open(FILE_NAME, \"a\") as file:\n",
    "            file.write(f'At {day_string} the user stayed at work till {stay_activity_time}\\n')\n",
    "            file.write(f'Current amount of data: {len(gps_data_array)}\\n')\n",
    "        \n",
    "        i+=1\n",
    "    else: \n",
    "        stay_activity_time=get_static_points(list_of_locations[i][1], list_of_locations[i][2], user, gps_data_array, \\\n",
    "                                             time_start=another_day_start, time_end=day+timedelta(hours=random.randint(22,26)))\n",
    "        with open(FILE_NAME, \"a\") as file:\n",
    "            file.write(f'It is weekend and the user decided to stay at home all day starting from {another_day_start} and \"went to bed\" at {stay_activity_time}\\n')\n",
    "            file.write(f'Current amount of data: {len(gps_data_array)}\\n')\n",
    "            file.write('-'*8+\"\\n\\n\")\n",
    "\n",
    "        \n",
    "        next_time=stay_activity_time\n",
    "        return stay_activity_time\n",
    "    \n",
    "\n",
    "    while i < (len(list_of_locations)-1):\n",
    "        moving_activity_time=get_moving_points(graph_proj, list_of_locations[i][0], list_of_locations[i+1][0],\\\n",
    "                            [list_of_locations[i][1], list_of_locations[i][2]],[list_of_locations[i+1][1], list_of_locations[i+1][2]],\\\n",
    "                             user, gps_data_array, time_start=stay_activity_time)\n",
    "        with open(FILE_NAME, \"a\") as file:\n",
    "            file.write(f'At {day_string} the user decided to go to an event {i} and came there {moving_activity_time}\\n')\n",
    "            file.write(f'Current amount of data: {len(gps_data_array)}\\n')\n",
    "        \n",
    "        stay_activity_time=get_static_points(list_of_locations[i+1][1], list_of_locations[i+1][2], user, gps_data_array,\\\n",
    "                                             time_start=moving_activity_time, time_end=moving_activity_time+timedelta(hours=random.randint(1,3)))\n",
    "        with open(FILE_NAME, \"a\") as file:\n",
    "            file.write(f'At {day_string} the user stayed at event {i} till {stay_activity_time}\\n')\n",
    "            file.write(f'Current amount of data: {len(gps_data_array)}\\n')\n",
    "\n",
    "        i+=1\n",
    "        \n",
    "    if i >0:     \n",
    "        moving_activity_time=get_moving_points(graph_proj, list_of_locations[i][0], list_of_locations[0][0],\\\n",
    "                            [list_of_locations[i][1], list_of_locations[i][2]], [list_of_locations[0][1], list_of_locations[0][2]],\\\n",
    "                            user, gps_data_array, time_start=stay_activity_time)\n",
    "        with open(FILE_NAME, \"a\") as file:\n",
    "            file.write(f'At {day_string} the user came to home at {moving_activity_time}\\n')\n",
    "            file.write(f'Current amount of data: {len(gps_data_array)}\\n')\n",
    "            file.write('-'*8+\"\\n\\n\")\n",
    "        \n",
    "        next_time=moving_activity_time\n",
    "        return next_time\n",
    "\n",
    "        "
   ]
  },
  {
   "cell_type": "code",
   "execution_count": null,
   "id": "612c7898",
   "metadata": {},
   "outputs": [],
   "source": [
    "number_of_users=3\n",
    "date_beginning = '2022-07-22'\n",
    "date_end = '2022-07-26'\n",
    "date_range = pd.date_range(date_beginning, date_end, freq = 'd')"
   ]
  },
  {
   "cell_type": "code",
   "execution_count": null,
   "id": "378ff507",
   "metadata": {},
   "outputs": [],
   "source": [
    "user_locations={}\n",
    "for user in range(number_of_users): \n",
    "    meaningful_locations=get_meaningful_locations(graph_proj, gdf_hw, gdf_event)\n",
    "    user_locations[user]=[meaningful_locations[0], meaningful_locations[1], meaningful_locations[2]]"
   ]
  },
  {
   "cell_type": "code",
   "execution_count": null,
   "id": "ae65910c",
   "metadata": {},
   "outputs": [],
   "source": [
    "%%time\n",
    "FILE_NAME=r\"GPS PLOTS\"\n",
    "gps_data_array=[]\n",
    "for user in range(number_of_users):\n",
    "    home_x=gdf_hw.iloc[user_locations[user][0]]['center_x']\n",
    "    home_y=gdf_hw.iloc[user_locations[user][0]]['center_y']\n",
    "    home_node_id=gdf_hw.iloc[user_locations[user][0]]['nearest_node']\n",
    "    work_x=gdf_hw.iloc[user_locations[user][1]]['center_x']\n",
    "    work_y=gdf_hw.iloc[user_locations[user][1]]['center_y']\n",
    "    work_node_id=gdf_hw.iloc[user_locations[user][1]]['nearest_node']\n",
    "    \n",
    "    home_list=[home_node_id, home_x, home_y]\n",
    "    work_list=[work_node_id, work_x, work_y]\n",
    "    time_start=date_range[0]\n",
    "    with open(FILE_NAME, \"a\") as file: \n",
    "        file.write(f'PLOT FOR USER {user+1}\\n\\n')\n",
    "        file.write(f'HOME_ID: {user_locations[user][0]}\\n')\n",
    "        file.write(f'WORK_ID: {user_locations[user][1]}\\n')\n",
    "        file.write(f'REGULAR_IDs: {user_locations[user][2]}\\n\\n')\n",
    "    for i in range(len(date_range)):\n",
    "        another_day_start=time_start\n",
    "        day=date_range[i]\n",
    "        day_string=date_range[i].strftime('%Y-%m-%d %H:%M:%S')[:10]\n",
    "        day_of_week=day.isoweekday()\n",
    "        if day_of_week<6: \n",
    "            number_of_events=np.random.choice([0,1,2,3], 1, p=[0.6, 0.25, 0.1, 0.05])[0]\n",
    "            list_of_locations=[home_list, work_list]\n",
    "        else: \n",
    "            number_of_events=np.random.choice([0,1,2,3,4], 1, p=[0.1, 0.2, 0.30, 0.25, 0.15])[0]\n",
    "            list_of_locations=[home_list]\n",
    "        time_start=random_plot(day_string, list_of_locations, day_of_week, number_of_events)"
   ]
  },
  {
   "cell_type": "code",
   "execution_count": null,
   "id": "f46ec0d4",
   "metadata": {},
   "outputs": [],
   "source": [
    "gps_data = pd.DataFrame(gps_data_array, columns = [ 'user', 'timestamp', 'lon', 'lat']).sort_values(by=['user','timestamp'])\n",
    "print(f'Final amount of record: {len(gps_data)}')\n",
    "\n",
    "user=2\n",
    "\n",
    "df_1=gps_data[gps_data['user']==user][['timestamp','lon','lat']]\n",
    "\n",
    "df_1['timestamp']=df_1['timestamp'].astype(str)\n",
    "\n",
    "df_1['timestamp']=df_1['timestamp'].apply(lambda x: x[:10])\n",
    "\n",
    "df_1['true_date']=pd.to_datetime(df_1['timestamp'], errors='coerce', format=\"%Y-%m-%d\")\n",
    "\n",
    "df_1=df_1.sort_values(by='true_date')\n",
    "\n",
    "lat_long_list = []\n",
    "date_strings=[]\n",
    "for i in df_1['timestamp'].unique():\n",
    "    date_strings.append(i)\n",
    "    temp=[]\n",
    "    for index, instance in df_1[df_1['timestamp'] == i].iterrows():\n",
    "        temp.append([instance['lat'],instance['lon']])\n",
    "    lat_long_list.append(temp)\n",
    "\n",
    "m=Map(location=[58.378025, 26.728493], zoom_start=12)\n",
    "title_html = '''\n",
    "             <h3 align=\"center\" style=\"font-size:20px\"><b>Heatmap of gps data for one user with Timestamps</b></h3>\n",
    "             '''\n",
    "m.get_root().html.add_child(folium.Element(title_html))  \n",
    "HeatMapWithTime(lat_long_list,auto_play=True,index=date_strings,max_opacity=0.5).add_to(m)\n",
    "\n",
    "home_lon, home_lat=transformer_to_WGS.transform(gdf_hw.loc[user_locations[user-1][0]]['center_x'], gdf_hw.loc[user_locations[user-1][0]]['center_y'])\n",
    "work_lon, work_lat=transformer_to_WGS.transform(gdf_hw.loc[user_locations[user-1][1]]['center_x'], gdf_hw.loc[user_locations[user-1][1]]['center_y'])\n",
    "\n",
    "event_list=[225, 1388, 56]\n",
    "\n",
    "for event_id in event_list:\n",
    "    event_lon, event_lat=transformer_to_WGS.transform(gdf_event.loc[event_id]['center_x'], gdf_event.loc[event_id]['center_y'])\n",
    "    if event_id in user_locations[user-1][2]: \n",
    "        popup_text='regular_location:'+str(event_id)\n",
    "    else: \n",
    "        popup_text='random_location:'+str(event_id)\n",
    "    folium.Marker(\n",
    "      location=[event_lat, event_lon],\n",
    "      popup=popup_text\n",
    "    ).add_to(m)\n",
    "    \n",
    "folium.Marker(\n",
    "  location=[home_lat, home_lon],\n",
    "  popup='home'\n",
    ").add_to(m)\n",
    "folium.Marker(\n",
    "  location=[work_lat, work_lon],\n",
    "  popup='work'\n",
    ").add_to(m)\n",
    "m"
   ]
  },
  {
   "cell_type": "code",
   "execution_count": null,
   "id": "38cd1527",
   "metadata": {},
   "outputs": [],
   "source": [
    "def getDistanceFromLatLonInKm(lat1,lon1,lat2,lon2):\n",
    "    R = 6371 # Radius of the earth in km\n",
    "    dLat = radians(lat2-lat1)\n",
    "    dLon = radians(lon2-lon1)\n",
    "    rLat1 = radians(lat1)\n",
    "    rLat2 = radians(lat2)\n",
    "    a = sin(dLat/2) * sin(dLat/2) + cos(rLat1) * cos(rLat2) * sin(dLon/2) * sin(dLon/2) \n",
    "    c = 2 * atan2(sqrt(a), sqrt(1-a))\n",
    "    d = R * c # Distance in km\n",
    "    return d\n",
    "\n",
    "def calc_velocity(dist_km, time_start, time_end):\n",
    "    \"\"\"Return 0 if time_start == time_end, avoid dividing by 0\"\"\"\n",
    "    return dist_km / ((time_end - time_start).total_seconds()/3600) if time_end > time_start else 0\n",
    "\n",
    "\n",
    "def get_distance_and_velocity(df, user, lon, lat, timestamp): \n",
    "    df[timestamp]=pd.to_datetime(df[timestamp], format='%Y-%m-%d %H:%M:%S')\n",
    "    df['lon_end'] = df[lon].shift(-1)\n",
    "    df['lat_end'] = df[lat].shift(-1)\n",
    "    df['timestamp_end']= df[timestamp].shift(-1)\n",
    "    df_final=pd.DataFrame()\n",
    "    for i in df[user].unique():\n",
    "        df_transitional=pd.DataFrame()\n",
    "        df_transitional=df[df[user]==i]\n",
    "        df_final=pd.concat([df_final, df_transitional])\n",
    "        df_final.drop(index=df_final.index[-1],axis=0,inplace=True)\n",
    "        \n",
    "    df_final['dist_km'] = df_final.apply(\n",
    "        lambda row: getDistanceFromLatLonInKm(\n",
    "        lat1=row[lat],\n",
    "        lon1=row[lon],\n",
    "        lat2=row['lat_end'],\n",
    "        lon2=row['lon_end']\n",
    "    ),\n",
    "    axis=1)\n",
    "    \n",
    "    df_final['velocity_kmh'] = df_final.apply(\n",
    "    lambda row: calc_velocity(\n",
    "        dist_km=row['dist_km'],\n",
    "        time_start=row[timestamp],\n",
    "        time_end=row['timestamp_end']\n",
    "    ),\n",
    "    axis=1\n",
    ")\n",
    "    return df_final"
   ]
  },
  {
   "cell_type": "code",
   "execution_count": null,
   "id": "f1ba2131",
   "metadata": {},
   "outputs": [],
   "source": [
    "df_final=get_distance_and_velocity(gps_data, 'user', 'lon', 'lat', 'timestamp')\n",
    "\n",
    "print(df_final['velocity_kmh'].min())\n",
    "print(df_final['velocity_kmh'].mean())\n",
    "print(df_final['velocity_kmh'].max())"
   ]
  },
  {
   "cell_type": "code",
   "execution_count": null,
   "id": "9945b79c",
   "metadata": {},
   "outputs": [],
   "source": [
    "df_final.iloc[220:235]"
   ]
  },
  {
   "cell_type": "code",
   "execution_count": null,
   "id": "2d8d798b",
   "metadata": {},
   "outputs": [],
   "source": [
    "df_final[df_final['velocity_kmh']>5]"
   ]
  },
  {
   "cell_type": "code",
   "execution_count": null,
   "id": "62b11e06",
   "metadata": {},
   "outputs": [],
   "source": []
  }
 ],
 "metadata": {
  "kernelspec": {
   "display_name": "Python 3 (ipykernel)",
   "language": "python",
   "name": "python3"
  },
  "language_info": {
   "codemirror_mode": {
    "name": "ipython",
    "version": 3
   },
   "file_extension": ".py",
   "mimetype": "text/x-python",
   "name": "python",
   "nbconvert_exporter": "python",
   "pygments_lexer": "ipython3",
   "version": "3.9.13"
  }
 },
 "nbformat": 4,
 "nbformat_minor": 5
}
